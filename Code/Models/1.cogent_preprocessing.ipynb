{
 "cells": [
  {
   "cell_type": "code",
   "execution_count": null,
   "id": "8f8a9376-6cce-47d6-ba42-1cacddddc59a",
   "metadata": {
    "tags": []
   },
   "outputs": [],
   "source": [
    "import os\n",
    "import time\n",
    "import pickle\n",
    "import re \n",
    "import json\n",
    "import requests\n",
    "\n",
    "import numpy as np\n",
    "import cv2\n",
    "from matplotlib import pyplot as plt\n",
    "from PIL import Image\n",
    "from tqdm import tqdm"
   ]
  },
  {
   "cell_type": "markdown",
   "id": "134ca711-0092-4753-9198-3c3e96ce320c",
   "metadata": {},
   "source": [
    "### Download missing images from json files and resize all images"
   ]
  },
  {
   "cell_type": "code",
   "execution_count": 5,
   "id": "23cb27ee-0077-4690-842e-e49b89b9597e",
   "metadata": {
    "tags": []
   },
   "outputs": [
    {
     "name": "stdout",
     "output_type": "stream",
     "text": [
      "images-archief dataset/cogent/data/images-archief\n",
      "8aed773f831cf6c92929c1efdb43da89-transcode-MA_ROM_XVI_AF_03556_R.jpg\n",
      "Total: 1898\n",
      "\n",
      "images-alijn dataset/cogent/data/images-alijn\n",
      "35371a245bbb4c6c0bd43f31f812630e-transcode-2004-247-550.jpg\n",
      "Total: 9682\n",
      "\n",
      "images-downloaded dataset/cogent/data/images-downloaded\n",
      "8c506ddc81b9174f6f89d67c8fade9ce-transcode-OA_535_372_015_B_TE.jpg\n",
      "Total: 7505\n",
      "\n",
      "images-design dataset/cogent/data/images-design\n",
      "5399315ee2427f9da3853672539735d8-transcode-0844.jpg\n",
      "Total: 2186\n",
      "\n",
      "images-industrie dataset/cogent/data/images-industrie\n",
      "d0e8fe9b5ab89d454546e082c77699e6-transcode-V24752.jpg\n",
      "Total: 8431\n",
      "\n",
      "images-stam dataset/cogent/data/images-stam\n",
      "c3df5b8acdf4d3cc8f7d24a765e2aefa-transcode-N_00024_051-114.jpg\n",
      "Total: 9390\n",
      "\n",
      "Total fnames 39092\n",
      "Total unique: 39092\n"
     ]
    }
   ],
   "source": [
    "data_dir = 'dataset/cogent/data'\n",
    "\n",
    "all_img_fnames = []\n",
    "\n",
    "for dirname in os.listdir(data_dir):\n",
    "    if dirname.endswith('.zip'):\n",
    "        continue\n",
    "        \n",
    "    if 'images' not in dirname:\n",
    "        continue\n",
    "        \n",
    "    dir_path = os.path.join(data_dir, dirname)\n",
    "    print(dirname, dir_path)\n",
    "\n",
    "    for fname in os.listdir(dir_path):\n",
    "        print(fname)\n",
    "        break\n",
    "    \n",
    "    fnames = os.listdir(dir_path)\n",
    "    print('Total:',len(fnames))\n",
    "    all_img_fnames.extend(fnames)\n",
    "    print()\n",
    "print('Total fnames',len(all_img_fnames))\n",
    "print('Total unique:',len(set(all_img_fnames)))\n",
    "all_img_fnames = set(all_img_fnames)"
   ]
  },
  {
   "cell_type": "code",
   "execution_count": 6,
   "id": "347e1c96-340d-4a25-b3c8-b49278dd09d9",
   "metadata": {
    "tags": []
   },
   "outputs": [
    {
     "name": "stdout",
     "output_type": "stream",
     "text": [
      "Current collection: collection-stam\n",
      "Total: 9396\n"
     ]
    },
    {
     "name": "stderr",
     "output_type": "stream",
     "text": [
      "100%|██████████| 9396/9396 [00:10<00:00, 924.35it/s] \n"
     ]
    },
    {
     "name": "stdout",
     "output_type": "stream",
     "text": [
      "\n",
      "Current collection: collection-alijn\n",
      "Total: 10000\n"
     ]
    },
    {
     "name": "stderr",
     "output_type": "stream",
     "text": [
      "100%|██████████| 10000/10000 [00:11<00:00, 842.62it/s]\n"
     ]
    },
    {
     "name": "stdout",
     "output_type": "stream",
     "text": [
      "\n",
      "Current collection: collection-archief\n",
      "Total: 9402\n"
     ]
    },
    {
     "name": "stderr",
     "output_type": "stream",
     "text": [
      "100%|██████████| 9402/9402 [00:10<00:00, 894.63it/s] \n"
     ]
    },
    {
     "name": "stdout",
     "output_type": "stream",
     "text": [
      "\n",
      "Current collection: collection-industrie\n",
      "Total: 8431\n"
     ]
    },
    {
     "name": "stderr",
     "output_type": "stream",
     "text": [
      "100%|██████████| 8431/8431 [00:10<00:00, 805.86it/s] \n"
     ]
    },
    {
     "name": "stdout",
     "output_type": "stream",
     "text": [
      "\n",
      "Current collection: collection-design\n",
      "Total: 2186\n"
     ]
    },
    {
     "name": "stderr",
     "output_type": "stream",
     "text": [
      "100%|██████████| 2186/2186 [00:02<00:00, 920.41it/s] "
     ]
    },
    {
     "name": "stdout",
     "output_type": "stream",
     "text": [
      "\n",
      "Total fnames 39415\n",
      "Total unique: 39415\n",
      "Total img locations: 39409\n",
      "Total without transcode: 6\n",
      "Total without any media: 6\n"
     ]
    },
    {
     "name": "stderr",
     "output_type": "stream",
     "text": [
      "\n"
     ]
    }
   ],
   "source": [
    "data_dir = 'dataset/cogent/data'\n",
    "\n",
    "all_fnames = []\n",
    "all_image_locations = []\n",
    "no_transcode = 0\n",
    "\n",
    "no_media = []\n",
    "for dirname in os.listdir(data_dir):\n",
    "    if dirname.endswith('.zip'):\n",
    "        continue\n",
    "        \n",
    "    if 'collection' not in dirname:\n",
    "        continue\n",
    "        \n",
    "    dir_path = os.path.join(data_dir, dirname)\n",
    "    print(f'Current collection: {dirname}')\n",
    "    fnames = os.listdir(dir_path)\n",
    "    print('Total:',len(fnames))\n",
    "    all_fnames.extend(fnames)\n",
    "    for fname in tqdm(os.listdir(dir_path)):\n",
    "        \n",
    "        json_path = os.path.join(dir_path,fname)\n",
    "        with open(json_path) as f_:\n",
    "            data = json.load(f_)\n",
    "            loc = None\n",
    "            if 'primary_transcode_location' in data:\n",
    "                loc = data['primary_transcode_location']\n",
    "    \n",
    "            if loc is None and 'primary_mediafile_location' in data:\n",
    "                loc = data['primary_mediafile_location']\n",
    "                no_transcode += 1\n",
    "            \n",
    "            if loc is not None:\n",
    "                all_image_locations.append(loc)\n",
    "            \n",
    "            else:\n",
    "                no_media.append(json_path)\n",
    "                \n",
    "            \n",
    "   \n",
    "    print()\n",
    "print('Total fnames',len(all_fnames))\n",
    "print('Total unique:',len(set(all_fnames)))\n",
    "print('Total img locations:', len(all_image_locations))\n",
    "print(f'Total without transcode: {no_transcode}')\n",
    "print(f'Total without any media: {len(no_media)}')"
   ]
  },
  {
   "cell_type": "code",
   "execution_count": 9,
   "id": "e90b25ab-d970-468f-a501-80e31c89821d",
   "metadata": {
    "tags": []
   },
   "outputs": [
    {
     "name": "stdout",
     "output_type": "stream",
     "text": [
      "Total not collected: 0\n",
      "Extensions:\n",
      "jpg 39091\n",
      "mp3 147\n",
      "mp4 122\n"
     ]
    }
   ],
   "source": [
    "not_collected = 0\n",
    "not_jpg = 0\n",
    "extensions = {}\n",
    "for f in all_image_locations:\n",
    "    img_fname = f.rsplit('/',1)[-1]\n",
    "    ext = img_fname.lower().rsplit('.',1)[-1]\n",
    "    if img_fname == 'v1None':\n",
    "        continue\n",
    "    \n",
    "    \n",
    "    if img_fname not in all_img_fnames and ext=='jpg':\n",
    "        not_collected += 1\n",
    "    \n",
    "    if ext in extensions:\n",
    "        extensions[ext] += 1\n",
    "    else:\n",
    "        extensions[ext] = 1\n",
    "    \n",
    "    \n",
    "print('Total not collected:',not_collected)\n",
    "print('Extensions:')\n",
    "for k,v in sorted(extensions.items(), key=lambda x:-x[1]):\n",
    "    print(k,v)\n",
    "    \n",
    "    "
   ]
  },
  {
   "cell_type": "markdown",
   "id": "13c85dc9-054c-4877-aad1-46a34991623d",
   "metadata": {},
   "source": [
    "#### Download missing images to new directory images-downloaded"
   ]
  },
  {
   "cell_type": "code",
   "execution_count": 8,
   "id": "50235465-d411-4703-9023-071fd8426918",
   "metadata": {
    "tags": []
   },
   "outputs": [
    {
     "name": "stderr",
     "output_type": "stream",
     "text": [
      "100%|██████████| 39409/39409 [00:00<00:00, 453586.65it/s]\n"
     ]
    }
   ],
   "source": [
    "download_dir = os.path.join(data_dir, 'images-downloaded')\n",
    "\n",
    "if not os.path.exists(download_dir):\n",
    "    os.mkdir(download_dir)\n",
    "\n",
    "downloaded_fnames = set(os.listdir(download_dir))\n",
    "\n",
    "for img_url in tqdm(all_image_locations):\n",
    "    img_fname = img_url.rsplit('/',1)[-1]\n",
    "    ext = img_fname.lower().rsplit('.',1)[-1]\n",
    "    \n",
    "    if img_fname not in all_img_fnames and ext == 'jpg':\n",
    "        download_path = os.path.join(download_dir, img_fname)\n",
    "        if os.path.exists(download_path):\n",
    "            continue\n",
    "        img_data = requests.get(img_url).content\n",
    "        with open(download_path, 'wb') as handler:\n",
    "            handler.write(img_data)\n",
    "        "
   ]
  },
  {
   "cell_type": "code",
   "execution_count": 5,
   "id": "a5902e91-0ba7-4470-bcf1-2779f09fed2a",
   "metadata": {
    "tags": []
   },
   "outputs": [],
   "source": [
    "def resize(img, max_dim=2048):\n",
    "    \n",
    "    h,w = img.shape[:2]\n",
    "    \n",
    "    if h >= w and h > max_dim:\n",
    "        new_h = max_dim\n",
    "        new_w = int(w/h * new_h)\n",
    "    elif w > h and w > max_dim:\n",
    "        new_w = max_dim\n",
    "        new_h = int(h/w*new_w)\n",
    "        \n",
    "    else:\n",
    "        return img\n",
    "    \n",
    "    return cv2.resize(img, (new_w,new_h))\n",
    "    \n",
    "def read_resize(tup):\n",
    "    img_path, output_path = tup\n",
    "    img = resize(cv2.imread(img_path), max_dim=max_dim)\n",
    "    cv2.imwrite(output_path, img)\n",
    "     \n"
   ]
  },
  {
   "cell_type": "markdown",
   "id": "f748ca46-ccc5-4f32-8964-9ecf2d270386",
   "metadata": {},
   "source": [
    "#### set cv2 threads to 1 for multiprocessing"
   ]
  },
  {
   "cell_type": "code",
   "execution_count": 6,
   "id": "9a7f9dd8-1f2e-4f64-a795-2f8dfea70edd",
   "metadata": {
    "tags": []
   },
   "outputs": [
    {
     "name": "stdout",
     "output_type": "stream",
     "text": [
      "1\n",
      "1\n"
     ]
    }
   ],
   "source": [
    "print(cv2.getNumThreads())\n",
    "cv2.setNumThreads(1)\n",
    "print(cv2.getNumThreads())"
   ]
  },
  {
   "cell_type": "markdown",
   "id": "ea025601-ae94-4fa4-b55c-5558aa62e5da",
   "metadata": {},
   "source": [
    "#### Image filenames are unique, below code checks the images-resized folder with all other image folders and resizes the images accordingly\n",
    "\n",
    "Change n_CPUs to the number of cpus available or change to multiprocessing.dummy for multithreaded (untested)"
   ]
  },
  {
   "cell_type": "code",
   "execution_count": 15,
   "id": "87685d2e-304e-43fb-949b-81eb3c513491",
   "metadata": {
    "tags": []
   },
   "outputs": [
    {
     "name": "stdout",
     "output_type": "stream",
     "text": [
      "images-archief dataset/cogent/data/images-archief\n",
      "0 0\n",
      "images-alijn dataset/cogent/data/images-alijn\n",
      "0 0\n",
      "images-downloaded dataset/cogent/data/images-downloaded\n",
      "0 0\n",
      "images-design dataset/cogent/data/images-design\n",
      "0 0\n",
      "images-industrie dataset/cogent/data/images-industrie\n",
      "0 0\n",
      "images-stam dataset/cogent/data/images-stam\n",
      "0 0\n",
      "Total fnames 0\n",
      "Total unique: 0\n"
     ]
    }
   ],
   "source": [
    "from multiprocessing.pool import Pool\n",
    "#from multiprocessing.dummy import Pool\n",
    "data_dir = 'dataset/cogent'\n",
    "collections_dir = os.path.join(data_dir, 'data')\n",
    "\n",
    "img_dir = os.path.join(data_dir, 'images_resized')\n",
    "\n",
    "all_img_fnames = []\n",
    "max_dim = 2048\n",
    "\n",
    "\n",
    "n_CPUs = 4\n",
    " \n",
    "if __name__ == '__main__':\n",
    "    \n",
    "    for dirname in os.listdir(collections_dir):\n",
    "        if dirname.endswith('.zip'):\n",
    "            continue\n",
    "\n",
    "        if 'images' not in dirname:\n",
    "            continue\n",
    "\n",
    "        dir_path = os.path.join(collections_dir, dirname)\n",
    "        print(dirname, dir_path)\n",
    "\n",
    "        input_filenames = [os.path.join(dir_path, f) for f in os.listdir(dir_path) if not os.path.exists(os.path.join(img_dir, f))]\n",
    "        output_filenames = [os.path.join(img_dir, f) for f in os.listdir(dir_path) if not os.path.exists(os.path.join(img_dir, f))]\n",
    "        print(len(input_filenames), len(output_filenames))\n",
    "        if len(input_filenames) == 0:\n",
    "            continue\n",
    "        inputs = zip(input_filenames, output_filenames)\n",
    "        # create and configure the process pool\n",
    "        with Pool(n_CPUs) as pool:\n",
    "            print(pool)\n",
    "            pool.imap_unordered(read_resize, inputs, chunksize=32)\n",
    "            pool.close()\n",
    "            # wait for all issued task to complete\n",
    "            pool.join()\n",
    "\n",
    "        fnames = os.listdir(dir_path)\n",
    "        print('Total:',len(fnames))\n",
    "        all_img_fnames.extend(fnames)\n",
    "        print()\n",
    "print('Total fnames',len(all_img_fnames))\n",
    "print('Total unique:',len(set(all_img_fnames)))\n",
    "all_img_fnames = set(all_img_fnames)\n"
   ]
  },
  {
   "cell_type": "code",
   "execution_count": null,
   "id": "404829c2-c870-4f52-a62a-c457a9ce2c1f",
   "metadata": {},
   "outputs": [],
   "source": []
  }
 ],
 "metadata": {
  "kernelspec": {
   "display_name": "Python 3 (ipykernel)",
   "language": "python",
   "name": "python3"
  },
  "language_info": {
   "codemirror_mode": {
    "name": "ipython",
    "version": 3
   },
   "file_extension": ".py",
   "mimetype": "text/x-python",
   "name": "python",
   "nbconvert_exporter": "python",
   "pygments_lexer": "ipython3",
   "version": "3.10.9"
  }
 },
 "nbformat": 4,
 "nbformat_minor": 5
}
