{
 "cells": [
  {
   "cell_type": "markdown",
   "id": "1bf94822-a26a-43af-b038-007be6ab6b0c",
   "metadata": {},
   "source": [
    "### Install LAVIS and Restart notebook after installing"
   ]
  },
  {
   "cell_type": "code",
   "execution_count": 1,
   "id": "3a4a51ea-7013-4cb1-8454-8248948a9bc0",
   "metadata": {
    "tags": []
   },
   "outputs": [],
   "source": [
    "!pip install -e LAVIS --quiet"
   ]
  },
  {
   "cell_type": "markdown",
   "id": "134ca711-0092-4753-9198-3c3e96ce320c",
   "metadata": {},
   "source": [
    "### Extract image features with BLIP2\n",
    "\n",
    "See: https://github.com/salesforce/LAVIS/blob/main/examples/blip2_feature_extraction.ipynb"
   ]
  },
  {
   "cell_type": "code",
   "execution_count": 1,
   "id": "8f8a9376-6cce-47d6-ba42-1cacddddc59a",
   "metadata": {
    "tags": []
   },
   "outputs": [],
   "source": [
    "import os\n",
    "import time\n",
    "import re \n",
    "import json\n",
    "import requests\n",
    "\n",
    "import numpy as np\n",
    "import cv2\n",
    "from matplotlib import pyplot as plt\n",
    "from PIL import Image\n",
    "from tqdm import tqdm\n",
    "import torch\n",
    "import h5py\n",
    "\n",
    "from lavis.models import load_model_and_preprocess"
   ]
  },
  {
   "cell_type": "code",
   "execution_count": 2,
   "id": "12257101-2d02-48ee-8edf-32a37c286908",
   "metadata": {
    "tags": []
   },
   "outputs": [],
   "source": [
    "def sorted_alphanumeric( l ): \n",
    "    \"\"\" Sort the given iterable in the way that humans expect.\"\"\" \n",
    "    convert = lambda text: int(text) if text.isdigit() else text \n",
    "    alphanum_key = lambda key: [ convert(c) for c in re.split('([0-9]+)', key)] \n",
    "    return sorted(l, key = alphanum_key)"
   ]
  },
  {
   "cell_type": "code",
   "execution_count": 3,
   "id": "b57a5d40-52bb-47c7-afa2-7999f8183e33",
   "metadata": {
    "tags": []
   },
   "outputs": [
    {
     "name": "stdout",
     "output_type": "stream",
     "text": [
      "Running on device: cuda\n"
     ]
    }
   ],
   "source": [
    "# setup device to use\n",
    "device = torch.device(\"cuda\") if torch.cuda.is_available() else \"cpu\"\n",
    "print('Running on device:',device)"
   ]
  },
  {
   "cell_type": "code",
   "execution_count": 4,
   "id": "6975a946-589b-4f8c-9d15-79b9a988f800",
   "metadata": {
    "tags": []
   },
   "outputs": [
    {
     "data": {
      "application/vnd.jupyter.widget-view+json": {
       "model_id": "ae73ee3242334d37a21d1c2666ba309c",
       "version_major": 2,
       "version_minor": 0
      },
      "text/plain": [
       "Downloading (…)solve/main/vocab.txt:   0%|          | 0.00/232k [00:00<?, ?B/s]"
      ]
     },
     "metadata": {},
     "output_type": "display_data"
    },
    {
     "data": {
      "application/vnd.jupyter.widget-view+json": {
       "model_id": "e67f64e4bad74fc99ca78af44128cf50",
       "version_major": 2,
       "version_minor": 0
      },
      "text/plain": [
       "Downloading (…)okenizer_config.json:   0%|          | 0.00/28.0 [00:00<?, ?B/s]"
      ]
     },
     "metadata": {},
     "output_type": "display_data"
    },
    {
     "data": {
      "application/vnd.jupyter.widget-view+json": {
       "model_id": "82645c6c2e0d4d8da81efc7c6a5c3023",
       "version_major": 2,
       "version_minor": 0
      },
      "text/plain": [
       "Downloading (…)lve/main/config.json:   0%|          | 0.00/570 [00:00<?, ?B/s]"
      ]
     },
     "metadata": {},
     "output_type": "display_data"
    },
    {
     "data": {
      "application/vnd.jupyter.widget-view+json": {
       "model_id": "9c97e98856d349bebfdbdeac0e967851",
       "version_major": 2,
       "version_minor": 0
      },
      "text/plain": [
       "  0%|          | 0.00/1.89G [00:00<?, ?B/s]"
      ]
     },
     "metadata": {},
     "output_type": "display_data"
    },
    {
     "data": {
      "application/vnd.jupyter.widget-view+json": {
       "model_id": "de9088c7005247019688d1896af67bc3",
       "version_major": 2,
       "version_minor": 0
      },
      "text/plain": [
       "Downloading pytorch_model.bin:   0%|          | 0.00/440M [00:00<?, ?B/s]"
      ]
     },
     "metadata": {},
     "output_type": "display_data"
    },
    {
     "data": {
      "application/vnd.jupyter.widget-view+json": {
       "model_id": "2bd4c22570e6482eabd176ed3eaa64b9",
       "version_major": 2,
       "version_minor": 0
      },
      "text/plain": [
       "  0%|          | 0.00/712M [00:00<?, ?B/s]"
      ]
     },
     "metadata": {},
     "output_type": "display_data"
    }
   ],
   "source": [
    "model, vis_processors, txt_processors = load_model_and_preprocess(name=\"blip2_feature_extractor\", model_type=\"pretrain\", is_eval=True, device=device)"
   ]
  },
  {
   "cell_type": "markdown",
   "id": "af23bdec-9d2c-41bd-afeb-f7e3343fa61f",
   "metadata": {},
   "source": [
    "### Batch images and calculate features, save to hdf5 file\n",
    "\n",
    "https://www.h5py.org/"
   ]
  },
  {
   "cell_type": "code",
   "execution_count": 42,
   "id": "a76c5904-6958-435b-8f14-8f62b8366db0",
   "metadata": {
    "tags": []
   },
   "outputs": [
    {
     "name": "stderr",
     "output_type": "stream",
     "text": [
      "100%|██████████| 4887/4887 [2:53:06<00:00,  2.13s/it]  \n"
     ]
    },
    {
     "name": "stdout",
     "output_type": "stream",
     "text": [
      "Saving features, avg time/batch:2.1 s\n",
      "Data saved in 0.613 s\n",
      "Finished in 10387.0s\n",
      "Avg time/batch: 2.1 s\n"
     ]
    }
   ],
   "source": [
    "data_dir = 'dataset/cogent'\n",
    "img_dir = os.path.join(data_dir, 'images_resized')\n",
    "\n",
    "batch_size = 8\n",
    "save_interval = 512\n",
    "\n",
    "all_fnames = sorted_alphanumeric([f for f in os.listdir(img_dir) if f.endswith('.jpg')])\n",
    "\n",
    "h5_path = os.path.join(data_dir, 'blip2_image_features.h5')\n",
    "\n",
    "fnames_to_save = None\n",
    "features_to_save = None\n",
    "times = []\n",
    "t_start = time.time()\n",
    "with h5py.File(h5_path, 'a') as h5:\n",
    "    for i in tqdm(range(0,len(all_fnames), batch_size)):\n",
    "        t1 = time.time()\n",
    "        batch_torch = []\n",
    "        fnames_batch =  np.array(all_fnames[i:i+batch_size])\n",
    "        img_paths_batch = [os.path.join(img_dir,f) for f in fnames_batch]\n",
    "\n",
    "        batch_pil = (Image.open(img_path).convert(\"RGB\") for img_path in img_paths_batch)                   \n",
    "        batch_torch = torch.cat([vis_processors[\"eval\"](img).unsqueeze(0).to(device) for img in batch_pil])\n",
    "        \n",
    "        features = model.extract_features({'image':batch_torch}, mode=\"image\")\n",
    "        proj = features.image_embeds_proj.cpu().numpy().astype(np.float32)\n",
    "        fnames_batch = np.array(fnames_batch, dtype=h5py.special_dtype(vlen=str))\n",
    "\n",
    "        if fnames_to_save is None:\n",
    "\n",
    "            features_to_save = proj\n",
    "            fnames_to_save = fnames_batch\n",
    "        else:\n",
    "            features_to_save = np.append(features_to_save, proj, axis=0)\n",
    "            fnames_to_save = np.append(fnames_to_save, fnames_batch, axis=0)\n",
    "\n",
    "        times.append(time.time()-t1)\n",
    "        # write chunk to file\n",
    "        if i % save_interval == 0:\n",
    "            # hdf5 storage see: https://stackoverflow.com/a/67334192/5582470\n",
    "\n",
    "            if i == 0:\n",
    "                # Create the dataset at first\n",
    "                h5.create_dataset('filenames', data=fnames_to_save, compression=\"gzip\", chunks=True, maxshape=(None,))\n",
    "                h5.create_dataset('features', data=features_to_save, compression=\"gzip\", chunks=True, maxshape=(None,features_to_save.shape[1],features_to_save.shape[2]))\n",
    "            \n",
    "            else:\n",
    "                # add to existing dataset\n",
    "                h5['filenames'].resize((h5['filenames'].shape[0] + fnames_to_save.shape[0]), axis=0)\n",
    "                h5['filenames'][-fnames_to_save.shape[0]:] = fnames_to_save\n",
    "\n",
    "                h5['features'].resize((h5['features'].shape[0] + features_to_save.shape[0]), axis=0)\n",
    "                h5['features'][-features_to_save.shape[0]:] = features_to_save\n",
    "                \n",
    "            # reset data to save    \n",
    "            features_to_save = None\n",
    "            fnames_to_save = None\n",
    "    \n",
    "    # save final remainder of images\n",
    "    if len(fnames_to_save):\n",
    "        print(f'Saving features, avg time/batch:{np.mean(times):.1f} s')\n",
    "        t1 = time.time()\n",
    "        h5['filenames'].resize((h5['filenames'].shape[0] + fnames_to_save.shape[0]), axis=0)\n",
    "        h5['filenames'][-fnames_to_save.shape[0]:] = fnames_to_save\n",
    "\n",
    "        h5['features'].resize((h5['features'].shape[0] + features_to_save.shape[0]), axis=0)\n",
    "        h5['features'][-features_to_save.shape[0]:] = features_to_save\n",
    "        print(f'Data saved in {time.time()-t1:.3f} s')\n",
    "        \n",
    "print(f'Finished in {time.time()-t_start:.1f}s')\n",
    "print(f'Avg time/batch: {np.mean(times):.1f} s')"
   ]
  },
  {
   "cell_type": "markdown",
   "id": "507a5ed5-c334-4b01-b683-45526cf6d68a",
   "metadata": {},
   "source": [
    "#### Check file contents"
   ]
  },
  {
   "cell_type": "code",
   "execution_count": 3,
   "id": "f0f7151a-6815-4fcf-93bc-4e2324be4916",
   "metadata": {
    "tags": []
   },
   "outputs": [
    {
     "name": "stdout",
     "output_type": "stream",
     "text": [
      "Features: (39091, 32, 256)\n",
      "Filenames: (39091,)\n",
      "[b'0a0d80b53f4a0c4d9fc8818b7f6e64a4-transcode-D05526.jpg'\n",
      " b'0a1a121f35f43d900e62f072b4511e02-transcode-14537_133.jpg'\n",
      " b'0a1a13839b97ea692fff6b354dc8010c-transcode-MA_SCMS_FO_00168.jpg']\n"
     ]
    }
   ],
   "source": [
    "with h5py.File(h5_path, 'r') as h5:\n",
    "    features = h5['features']\n",
    "    filenames = h5['filenames']\n",
    "    \n",
    "    print('Features:', features.shape)\n",
    "    print('Filenames:', filenames.shape)\n",
    "    print(filenames[:3])"
   ]
  },
  {
   "cell_type": "code",
   "execution_count": null,
   "id": "221f0bec-5ad3-4b21-ae33-bbffa53c76fc",
   "metadata": {},
   "outputs": [],
   "source": []
  }
 ],
 "metadata": {
  "kernelspec": {
   "display_name": "Python 3 (ipykernel)",
   "language": "python",
   "name": "python3"
  },
  "language_info": {
   "codemirror_mode": {
    "name": "ipython",
    "version": 3
   },
   "file_extension": ".py",
   "mimetype": "text/x-python",
   "name": "python",
   "nbconvert_exporter": "python",
   "pygments_lexer": "ipython3",
   "version": "3.10.9"
  }
 },
 "nbformat": 4,
 "nbformat_minor": 5
}
